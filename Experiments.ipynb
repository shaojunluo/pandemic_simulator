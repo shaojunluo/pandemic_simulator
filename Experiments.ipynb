{
 "cells": [
  {
   "cell_type": "code",
   "execution_count": 10,
   "metadata": {},
   "outputs": [],
   "source": [
    "from simulation_utils import default_params, community\n",
    "from analysis_utils import *\n",
    "from multiprocessing import Pool\n",
    "from functools import partial\n",
    "from matplotlib import pyplot as plt\n",
    "from time import time\n",
    "\n",
    "# helper function for parallel running\n",
    "def simulate_worker(i, n_days, structure, structure_params, params, verbose=1):\n",
    "    start_time = time()\n",
    "    com = community(structure = structure, struct_params = struct_params,params=params)\n",
    "    stat, nodes = com.simulator(n_days)\n",
    "    if verbose:\n",
    "        print(f'simulation Round {i}, time lapsed: {time()-start_time:.2f}')\n",
    "    return stat, nodes\n",
    "\n",
    "# comparing workers\n",
    "def compare_worker(val_name, val_range, structure_params, base_params, \n",
    "                   n_simulation = 8, days = 90):\n",
    "    start_time = time()\n",
    "    params = base_params.copy()\n",
    "    results = []\n",
    "    for v in val_range:\n",
    "        params[val_name] = v\n",
    "        with Pool(8) as p:\n",
    "            result = list(p.map(partial(simulate_worker, \n",
    "                          n_days = days, structure = 'ws_network', \n",
    "                          structure_params = struct_params, params = params, \n",
    "                          verbose=0), list(range(n_simulation))))\n",
    "        results.append(average_stats(result))\n",
    "    print(f'Completed in {time()-start_time:.2f}s')\n",
    "    return results\n",
    "    \n",
    "# structure parameter is estimated from \n",
    "struct_params = [50000, 35, 0.7]    # 50000 residences, average degree 35, casual link 0.7\n",
    "n_simulation = 40                   # monte carlo repeation                       "
   ]
  },
  {
   "cell_type": "markdown",
   "metadata": {},
   "source": [
    "## Part 0: Finding the natural infection rate with R_0"
   ]
  },
  {
   "cell_type": "code",
   "execution_count": 11,
   "metadata": {},
   "outputs": [
    {
     "name": "stdout",
     "output_type": "stream",
     "text": [
      "Completed in 2507.14s\n"
     ]
    }
   ],
   "source": [
    "params = default_params.copy()\n",
    "# list of betas to explore\n",
    "bs = np.linspace(0.01,0.02,11)\n",
    "days = 90\n",
    "res_r0 = compare_worker('b',bs, struct_params, params,\n",
    "                        n_simulation = n_simulation, days = days)"
   ]
  },
  {
   "cell_type": "code",
   "execution_count": 12,
   "metadata": {},
   "outputs": [
    {
     "data": {
      "image/png": "[encoded data removed]",
      "text/plain": [
       "<Figure size 432x360 with 1 Axes>"
      ]
     },
     "metadata": {
      "needs_background": "light"
     },
     "output_type": "display_data"
    }
   ],
   "source": [
    "# plot results\n",
    "fig, ax = plt.subplots(figsize = (6,5))\n",
    "plot_max_compare(ax, bs, res_r0, 'R', x_name=r'Infection Rate $\\beta$',\n",
    "                 y_name = 'R0',title = f'Estimated R0 from early cases')\n",
    "ax.axhline(5.7,ls ='--',color='k')\n",
    "ax.set_ylim(bottom = 4)\n",
    "fig.tight_layout()"
   ]
  },
  {
   "cell_type": "markdown",
   "metadata": {},
   "source": [
    "## Part 1: Virus spread without pandenmic control (SEIR)"
   ]
  },
  {
   "cell_type": "code",
   "execution_count": null,
   "metadata": {},
   "outputs": [],
   "source": [
    "title = 'Without Pandemic Control'\n",
    "params = default_params.copy()      # initialize prameter\n",
    "with Pool(8) as p:\n",
    "    result = list(p.map(partial(simulate_worker, \n",
    "                  n_days = 90, structure = 'ws_network', \n",
    "                  structure_params = struct_params, params = params, \n",
    "                  verbose =0), list(range(n_simulation))))"
   ]
  },
  {
   "cell_type": "code",
   "execution_count": null,
   "metadata": {},
   "outputs": [],
   "source": [
    "# plot result\n",
    "fig, ax = plt.subplots(1,2, figsize = (12,4))\n",
    "plot_cases(ax[0], result,title)\n",
    "plot_rs(ax[1],result,title)\n",
    "fig.tight_layout()"
   ]
  },
  {
   "cell_type": "markdown",
   "metadata": {},
   "source": [
    "## Part 2 Vaccine amount required for herd immunity (SEIR)"
   ]
  },
  {
   "cell_type": "code",
   "execution_count": null,
   "metadata": {},
   "outputs": [],
   "source": [
    "params = default_params.copy()\n",
    "params['pc'] = 0.95 # Assign effectiveness of vacccine\n",
    "prs = np.linspace(0,1,21)\n",
    "days = 90\n",
    "# making compare\n",
    "res_vaccine = compare_worker('pr',prs, struct_params, params, days = days)"
   ]
  },
  {
   "cell_type": "code",
   "execution_count": null,
   "metadata": {},
   "outputs": [],
   "source": [
    "# plot results\n",
    "fig, ax = plt.subplots(1,2,figsize = (13,5))\n",
    "plot_max_compare(ax[0], prs, res_vaccine, 'accumulated_cases', x_name='Fraction of Vaccination',\n",
    "                 y_name = 'Fraction of Population',title = f'Accumulated cases after {days} days')\n",
    "plot_max_compare(ax[1], prs, res_vaccine, 'symptomatic_cases', x_name='Fraction of Vaccination',\n",
    "                 y_name = 'Fraction of Population',title = f'Max symptomatic cases in {days} days')\n",
    "fig.tight_layout()"
   ]
  },
  {
   "cell_type": "markdown",
   "metadata": {},
   "source": [
    "## Part 3: Ideal Pandemic control without Vaccine"
   ]
  },
  {
   "cell_type": "code",
   "execution_count": null,
   "metadata": {},
   "outputs": [],
   "source": [
    "days = 180\n",
    "title = 'Ideal Pandemic Control without Vaccine'\n",
    "params = default_params.copy()\n",
    "params['pc'] = 0.67 # Mask effective ness Chu, D. K. et al. Lancet 395, 1973–1987 (2020).\n",
    "params['pr'] = 1.0  # Mandatory mask wearing\n",
    "params['g']  = 1.0  # Fast medical reaction and mandatory isolation\n",
    "params['qt'] = 1.0  # Every Cases has been identified (massive test)\n",
    "\n",
    "with Pool(8) as p:\n",
    "    result = list(p.map(partial(simulate_worker, \n",
    "                  n_days = days, structure = 'ws_network', \n",
    "                  structure_params = struct_params, params = params, \n",
    "                  verbose=0), list(range(n_simulation))))"
   ]
  },
  {
   "cell_type": "code",
   "execution_count": null,
   "metadata": {},
   "outputs": [],
   "source": [
    "# plot result\n",
    "fig, ax = plt.subplots(1,3, figsize = (18,4))\n",
    "plot_cases(ax[0], result,title)\n",
    "plot_quarantine(ax[1], result,title)\n",
    "plot_rs(ax[2],result,title)\n",
    "fig.tight_layout()"
   ]
  },
  {
   "cell_type": "markdown",
   "metadata": {},
   "source": [
    "## Part 4: Generic pandemic control without Lockdown (an example)"
   ]
  },
  {
   "cell_type": "code",
   "execution_count": null,
   "metadata": {},
   "outputs": [],
   "source": [
    "days = 180\n",
    "\n",
    "title = 'General Pandemic Control without Lockdown'\n",
    "params = default_params.copy()\n",
    "params['pc'] = 0.67 # Mask effectiveness Chu, D. K. et al. Lancet 395, 1973–1987 (2020).\n",
    "params['pr'] = 0.75 # Rate of Volunteer mask wearing: https://nyti.ms/3hdCzzP\n",
    "params['g']  = 0.50 # Every day the 50% of infected people will go isolation\n",
    "params['qt'] = 0.50 # 50% of the infection is detected\n",
    "# general parameters\n",
    "gen_params = params\n",
    "with Pool(8) as p:\n",
    "    result = list(p.map(partial(simulate_worker, \n",
    "                  n_days = days, structure = 'ws_network', \n",
    "                  structure_params = struct_params, params = gen_params, \n",
    "                  verbose=0), list(range(n_simulation))))"
   ]
  },
  {
   "cell_type": "code",
   "execution_count": null,
   "metadata": {},
   "outputs": [],
   "source": [
    "# plot result\n",
    "fig, ax = plt.subplots(1,3, figsize = (18,4))\n",
    "plot_cases(ax[0], result,title)\n",
    "plot_quarantine(ax[1], result,title)\n",
    "plot_rs(ax[2],result,title)\n",
    "fig.tight_layout()"
   ]
  },
  {
   "cell_type": "markdown",
   "metadata": {},
   "source": [
    "## Part 5: Pandemic Control Factors Lookout"
   ]
  },
  {
   "cell_type": "code",
   "execution_count": null,
   "metadata": {},
   "outputs": [],
   "source": [
    "# Factor of mask wearing rate\n",
    "results = {}\n",
    "start_time = time()\n",
    "days = 180 # run for 180 days\n",
    "\n",
    "# comparing work\n",
    "for name in ['pr','g','qt']:\n",
    "    print(f'Running for {name}:', end = ' ')\n",
    "    params = gen_params.copy()\n",
    "    val = np.linspace(0,1,21)\n",
    "    # making compare\n",
    "    results[name] = (val, compare_worker(name, val, struct_params, params, days = days))"
   ]
  },
  {
   "cell_type": "code",
   "execution_count": null,
   "metadata": {},
   "outputs": [],
   "source": [
    "# plot results\n",
    "fig, ax = plt.subplots(2,3,figsize = (12,6))\n",
    "# xlabel mapping\n",
    "xlabels = {'pr': 'Mask Rate','g': 'Isolation Rate','qt':'Test Cover Rate'}\n",
    "# plot result\n",
    "for i, name in enumerate(results.keys()):\n",
    "    plot_max_compare(ax[0,i], results[name][0], results[name][1], 'accumulated_cases', x_name=xlabels[name],\n",
    "                     y_name = 'Fraction of Population',title = f'Accumulated cases after {days} days')\n",
    "    plot_max_compare(ax[1,i], results[name][0], results[name][1], 'symptomatic_cases', x_name=xlabels[name],\n",
    "                     y_name = 'Fraction of Population',title = f'Max symptomatic cases in {days} days')\n",
    "fig.tight_layout()"
   ]
  },
  {
   "cell_type": "markdown",
   "metadata": {},
   "source": [
    "## Part 6: General Pandemic Control with Lockdown"
   ]
  },
  {
   "cell_type": "code",
   "execution_count": null,
   "metadata": {},
   "outputs": [],
   "source": [
    "days = 180\n",
    "\n",
    "title = 'General Pandemic Control with Lockdown'\n",
    "params = gen_params.copy()\n",
    "params['lt'] = 0.01 # lockdown threshold for total symptomatic cases\n",
    "params['ls'] = 0.50 # 50% people is going quarantine\n",
    "with Pool(8) as p:\n",
    "    result = list(p.map(partial(simulate_worker, \n",
    "                  n_days = days, structure = 'ws_network', \n",
    "                  structure_params = struct_params, params = params, \n",
    "                  verbose=0), list(range(n_simulation))))\n",
    "# plot result\n",
    "fig, ax = plt.subplots(1,3, figsize = (18,4))\n",
    "plot_cases(ax[0], result,title)\n",
    "plot_quarantine(ax[1], result,title)\n",
    "plot_rs(ax[2],result,title)\n",
    "fig.tight_layout()"
   ]
  },
  {
   "cell_type": "code",
   "execution_count": null,
   "metadata": {},
   "outputs": [],
   "source": []
  }
 ],
 "metadata": {
  "kernelspec": {
   "display_name": "Python 3",
   "language": "python",
   "name": "python3"
  },
  "language_info": {
   "codemirror_mode": {
    "name": "ipython",
    "version": 3
   },
   "file_extension": ".py",
   "mimetype": "text/x-python",
   "name": "python",
   "nbconvert_exporter": "python",
   "pygments_lexer": "ipython3",
   "version": "3.7.7"
  }
 },
 "nbformat": 4,
 "nbformat_minor": 4
}
